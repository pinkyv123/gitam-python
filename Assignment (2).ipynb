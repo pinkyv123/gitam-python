{
 "cells": [
  {
   "cell_type": "code",
   "execution_count": 1,
   "metadata": {},
   "outputs": [
    {
     "name": "stdout",
     "output_type": "stream",
     "text": [
      "3 2 1 1 0 "
     ]
    }
   ],
   "source": [
    "def reverseFib(n):\n",
    "    a = [0] * n \n",
    "    a[0] = 0 \n",
    "    a[1] = 1 \n",
    "    for i in range(2, n):  \n",
    "        a[i] = a[i - 2] + a[i - 1] \n",
    "    for i in range(n - 1, -1 , -1):  \n",
    "        print(a[i],end=\" \") \n",
    "        \n",
    "n = 5 \n",
    "reverseFib(n)"
   ]
  },
  {
   "cell_type": "code",
   "execution_count": 6,
   "metadata": {},
   "outputs": [
    {
     "name": "stdout",
     "output_type": "stream",
     "text": [
      "no of values3\n",
      "55\n",
      "44\n",
      "99\n"
     ]
    },
    {
     "data": {
      "text/plain": [
       "198"
      ]
     },
     "execution_count": 6,
     "metadata": {},
     "output_type": "execute_result"
    }
   ],
   "source": [
    "def Q2(n):\n",
    "    a=[]\n",
    "    s=0\n",
    "    for i in range(n):\n",
    "        a.append(int(input()))\n",
    "    for i in range(n):\n",
    "        c=0\n",
    "        for j in range(n):\n",
    "            if i!=j:\n",
    "                if a[i]==a[j]:\n",
    "                    c+=1\n",
    "        if c==0:\n",
    "            s=s+a[i]\n",
    "    return s\n",
    "Q2(int(input(\"no of values\")))"
   ]
  },
  {
   "cell_type": "code",
   "execution_count": 10,
   "metadata": {},
   "outputs": [
    {
     "name": "stdout",
     "output_type": "stream",
     "text": [
      "enter str:fhhrhurture ryrt54544hut\n",
      "f r\n",
      "h y\n",
      "h r\n",
      "r t\n",
      "h 5\n",
      "u 4\n",
      "r 5\n",
      "t 4\n",
      "u 4\n",
      "r h\n",
      "e u\n",
      "t *\n"
     ]
    }
   ],
   "source": [
    "def Q3(a,b):\n",
    "    if len(a)<=len(b):\n",
    "        n=len(a)\n",
    "        k=len(b)\n",
    "    else:\n",
    "        n=len(b)\n",
    "        k=len(a)\n",
    "    for i in range(n):\n",
    "        print(a[i],b[i])\n",
    "    for j in range(n,k):\n",
    "        if(len(a)<=len(b)):\n",
    "            print(b[j],'*')\n",
    "        else:\n",
    "            print(a[j],'*')\n",
    "    return\n",
    "x=str(input(\"enter str:\"))\n",
    "x=x.split()\n",
    "Q3(x[0],x[1])"
   ]
  },
  {
   "cell_type": "code",
   "execution_count": 11,
   "metadata": {},
   "outputs": [
    {
     "name": "stdout",
     "output_type": "stream",
     "text": [
      "enter str:tht rty\n",
      "THT\n"
     ]
    }
   ],
   "source": [
    "def Q4(a,b):\n",
    "    if len(a)>=len(b):\n",
    "        print(a.upper())\n",
    "    else:\n",
    "        print(b.upper())\n",
    "    return\n",
    "x=str(input(\"enter str:\"))\n",
    "x=x.split()\n",
    "Q4(x[0],x[1])"
   ]
  },
  {
   "cell_type": "code",
   "execution_count": 12,
   "metadata": {},
   "outputs": [
    {
     "name": "stdout",
     "output_type": "stream",
     "text": [
      "enter str:Veerapaneni ushasvi\n",
      "VEERAPANENI "
     ]
    }
   ],
   "source": [
    "def Q5_1(a):\n",
    "    a=a.split()\n",
    "    for i in range (len(a)):\n",
    "        if a[i].istitle()==True:\n",
    "            print(a[i].upper(),end= \" \")\n",
    "    return\n",
    "x=str(input(\"enter str:\"))\n",
    "Q5_1(x)"
   ]
  },
  {
   "cell_type": "code",
   "execution_count": 13,
   "metadata": {},
   "outputs": [
    {
     "name": "stdout",
     "output_type": "stream",
     "text": [
      "enter num56856456897\n",
      "*****\n",
      "******\n",
      "********\n",
      "*****\n",
      "******\n",
      "****\n",
      "*****\n",
      "******\n",
      "********\n",
      "*********\n",
      "*******\n"
     ]
    }
   ],
   "source": [
    "def Q7(n):\n",
    "    for i in range(len(n)):\n",
    "        n[i]=int(n[i])\n",
    "    for i in range(len(n)):\n",
    "        for j in range(n[i]):\n",
    "            print(\"*\",end=\"\")\n",
    "        print(\"\")\n",
    "    return\n",
    "x=input(\"enter num\")\n",
    "Q7(list(x))"
   ]
  },
  {
   "cell_type": "code",
   "execution_count": 5,
   "metadata": {},
   "outputs": [
    {
     "name": "stdout",
     "output_type": "stream",
     "text": [
      "1  2  4  8  16  32  64  "
     ]
    }
   ],
   "source": [
    "def seriesGen2(n):\n",
    "   i=1\n",
    "   while i<=n:\n",
    "       print(i,end=\"  \")\n",
    "       i=i*2\n",
    "   return\n",
    "seriesGen2(100)"
   ]
  },
  {
   "cell_type": "code",
   "execution_count": 3,
   "metadata": {},
   "outputs": [
    {
     "name": "stdout",
     "output_type": "stream",
     "text": [
      "The 5 th term of the series is : 162\n"
     ]
    }
   ],
   "source": [
    "# term of geometric progression  \n",
    "import math  \n",
    " \n",
    "def Nth_of_GP(a, r, N):  \n",
    "   return( a * (int)(math.pow(r, N - 1)) )  \n",
    "a = 2\n",
    "r = 3 \n",
    "N = 5   \n",
    "print(\"The\", N, \"th term of the series is :\",  \n",
    "                           Nth_of_GP(a, r, N))"
   ]
  },
  {
   "cell_type": "code",
   "execution_count": 4,
   "metadata": {},
   "outputs": [
    {
     "name": "stdout",
     "output_type": "stream",
     "text": [
      "1 3 9 27 81 "
     ]
    }
   ],
   "source": [
    "# Series Generation\n",
    "\n",
    "def seriesgeneration(n):\n",
    "   i=1\n",
    "   while i<=n:\n",
    "       print(i,end=\" \")\n",
    "       i=i*3\n",
    "   return\n",
    "seriesgeneration(100)"
   ]
  },
  {
   "cell_type": "code",
   "execution_count": null,
   "metadata": {},
   "outputs": [],
   "source": []
  },
  {
   "cell_type": "code",
   "execution_count": null,
   "metadata": {},
   "outputs": [],
   "source": []
  },
  {
   "cell_type": "code",
   "execution_count": null,
   "metadata": {},
   "outputs": [],
   "source": []
  },
  {
   "cell_type": "code",
   "execution_count": null,
   "metadata": {},
   "outputs": [],
   "source": []
  },
  {
   "cell_type": "code",
   "execution_count": null,
   "metadata": {},
   "outputs": [],
   "source": []
  },
  {
   "cell_type": "code",
   "execution_count": null,
   "metadata": {},
   "outputs": [],
   "source": []
  },
  {
   "cell_type": "code",
   "execution_count": null,
   "metadata": {},
   "outputs": [],
   "source": []
  }
 ],
 "metadata": {
  "kernelspec": {
   "display_name": "Python 3",
   "language": "python",
   "name": "python3"
  },
  "language_info": {
   "codemirror_mode": {
    "name": "ipython",
    "version": 3
   },
   "file_extension": ".py",
   "mimetype": "text/x-python",
   "name": "python",
   "nbconvert_exporter": "python",
   "pygments_lexer": "ipython3",
   "version": "3.7.3"
  }
 },
 "nbformat": 4,
 "nbformat_minor": 2
}
