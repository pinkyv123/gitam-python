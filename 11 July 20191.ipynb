{
 "cells": [
  {
   "cell_type": "markdown",
   "metadata": {},
   "source": [
    "### Standard Libraries\n",
    "- File I/O\n",
    "- Regular Expression\n",
    "- Datetime\n",
    "- Math(numerical and Mathematical)"
   ]
  },
  {
   "cell_type": "markdown",
   "metadata": {},
   "source": [
    "### File Handling in Python\n",
    "- File:- Document containing information resides on the permanenent storage\n",
    "- Different types of files:-txt,doc,pdf,csv,and etc..\n",
    "- Input--Keyboad\n",
    "- Output--File\n",
    "### Modes of the File I/O\n",
    "- 'w'--This mode is used to file writing\n",
    "-    -- If the file is not present first it creates the file and write so me data to it \n",
    "-    -- If the File is already present then it will rewrite the previous content"
   ]
  },
  {
   "cell_type": "code",
   "execution_count": 1,
   "metadata": {},
   "outputs": [
    {
     "name": "stdout",
     "output_type": "stream",
     "text": [
      "File is created and data has written\n"
     ]
    }
   ],
   "source": [
    "#Function to create a file and write to the file\n",
    "def createFile(filename):\n",
    "    f=open(filename,'w')\n",
    "    for i in range(10):\n",
    "        f.write('This is %d Line'%i)\n",
    "    print(\"File is created and data has written\")\n",
    "    return\n",
    "createFile('file1.txt')"
   ]
  },
  {
   "cell_type": "code",
   "execution_count": 3,
   "metadata": {},
   "outputs": [
    {
     "name": "stdout",
     "output_type": "stream",
     "text": [
      " Volume in drive C has no label.\n",
      " Volume Serial Number is B051-A07A\n",
      "\n",
      " Directory of C:\\Users\\mplab\n",
      "\n",
      "11-07-2019  09:35    <DIR>          .\n",
      "11-07-2019  09:35    <DIR>          ..\n",
      "17-06-2019  10:08    <DIR>          .anaconda\n",
      "04-07-2019  16:02             1,698 .bash_history\n",
      "17-06-2019  10:27    <DIR>          .conda\n",
      "17-06-2019  10:22                43 .condarc\n",
      "11-07-2019  09:13    <DIR>          .ipynb_checkpoints\n",
      "17-06-2019  10:23    <DIR>          .ipython\n",
      "24-06-2019  09:34    <DIR>          .jupyter\n",
      "11-07-2019  09:18            18,225 10 july 2019.ipynb\n",
      "10-07-2019  10:39             9,920 10-july-19.ipynb\n",
      "11-07-2019  09:35             2,746 11 July 2019.ipynb\n",
      "09-07-2019  15:17             4,391 9th july.ipynb\n",
      "08-07-2019  15:50             4,160 aasritha.ipynb\n",
      "17-06-2019  10:00    <DIR>          Anaconda3\n",
      "10-07-2019  16:02             6,790 Assignment.ipynb\n",
      "14-06-2019  15:11    <DIR>          Contacts\n",
      "26-06-2019  12:08             5,026 day 9.ipynb\n",
      "06-07-2019  13:20    <DIR>          Desktop\n",
      "09-07-2019  15:27    <DIR>          Documents\n",
      "10-07-2019  16:02    <DIR>          Downloads\n",
      "14-06-2019  15:11    <DIR>          Favorites\n",
      "11-07-2019  09:34               140 file1.txt\n",
      "05-07-2019  09:45    <DIR>          git\n",
      "14-06-2019  15:11    <DIR>          Links\n",
      "14-06-2019  15:11    <DIR>          Music\n",
      "20-06-2019  15:44    <DIR>          Pictures\n",
      "05-07-2019  09:23    <DIR>          pythonprog\n",
      "14-06-2019  15:11    <DIR>          Saved Games\n",
      "01-07-2019  09:46    <DIR>          Searches\n",
      "05-07-2019  12:45             2,804 Untitled.ipynb\n",
      "05-07-2019  14:39            15,653 Untitled1.ipynb\n",
      "09-07-2019  15:17             4,391 Untitled10.ipynb\n",
      "05-07-2019  15:14             2,149 Untitled2.ipynb\n",
      "05-07-2019  15:23             2,163 Untitled3.ipynb\n",
      "06-07-2019  12:39             3,239 Untitled4.ipynb\n",
      "08-07-2019  10:52             5,012 Untitled5.ipynb\n",
      "08-07-2019  13:03               555 Untitled6.ipynb\n",
      "08-07-2019  14:45               800 Untitled7.ipynb\n",
      "08-07-2019  15:13                72 Untitled8.ipynb\n",
      "08-07-2019  15:41             4,160 Untitled9.ipynb\n",
      "14-06-2019  15:11    <DIR>          Videos\n",
      "              21 File(s)         94,137 bytes\n",
      "              21 Dir(s)  188,142,182,400 bytes free\n"
     ]
    }
   ],
   "source": [
    "ls"
   ]
  },
  {
   "cell_type": "code",
   "execution_count": 2,
   "metadata": {},
   "outputs": [
    {
     "ename": "SyntaxError",
     "evalue": "invalid syntax (<ipython-input-2-0bccb725251b>, line 1)",
     "output_type": "error",
     "traceback": [
      "\u001b[1;36m  File \u001b[1;32m\"<ipython-input-2-0bccb725251b>\"\u001b[1;36m, line \u001b[1;32m1\u001b[0m\n\u001b[1;33m    cat file1.txt\u001b[0m\n\u001b[1;37m            ^\u001b[0m\n\u001b[1;31mSyntaxError\u001b[0m\u001b[1;31m:\u001b[0m invalid syntax\n"
     ]
    }
   ],
   "source": [
    "cat file1.txt"
   ]
  },
  {
   "cell_type": "code",
   "execution_count": 5,
   "metadata": {},
   "outputs": [
    {
     "name": "stdout",
     "output_type": "stream",
     "text": [
      "File is created and data has written\n"
     ]
    }
   ],
   "source": [
    "def createFile(filename):\n",
    "    f=open(filename,'w')\n",
    "    f.write('Testing..\\n')\n",
    "    print(\"File is created and data has written\")\n",
    "    return\n",
    "createFile('file1.txt')"
   ]
  },
  {
   "cell_type": "code",
   "execution_count": 7,
   "metadata": {},
   "outputs": [
    {
     "name": "stdout",
     "output_type": "stream",
     "text": [
      "FileCreated and Successfully data written\n"
     ]
    }
   ],
   "source": [
    "def appendData(filename):\n",
    "    f=open(filename,'a')\n",
    "    for i in range(10):\n",
    "        f.write(\"This is %d Line\\n\"%i)\n",
    "    print(\"FileCreated and Successfully data written\")\n",
    "    return\n",
    "appendData('file2.txt')"
   ]
  },
  {
   "cell_type": "code",
   "execution_count": 9,
   "metadata": {},
   "outputs": [
    {
     "name": "stdout",
     "output_type": "stream",
     "text": [
      "FileCreated and Successfully data written\n"
     ]
    }
   ],
   "source": [
    "def appendData(filename):\n",
    "    f=open(filename,'a')\n",
    "    f.write(\"New Line1\\n\")\n",
    "    f.write(\"New Line2\\n\")\n",
    "    print(\"FileCreated and Successfully data written\")\n",
    "    f.close()\n",
    "    return\n",
    "appendData('file2.txt')"
   ]
  },
  {
   "cell_type": "code",
   "execution_count": 14,
   "metadata": {},
   "outputs": [
    {
     "name": "stdout",
     "output_type": "stream",
     "text": [
      "This is 0 Line\n",
      "This is 1 Line\n",
      "This is 2 Line\n",
      "This is 3 Line\n",
      "This is 4 Line\n",
      "This is 5 Line\n",
      "This is 6 Line\n",
      "This is 7 Line\n",
      "This is 8 Line\n",
      "This is 9 Line\n",
      "New Line1\n",
      "New Line2\n",
      "New Line1\n",
      "New Line2\n",
      "\n"
     ]
    }
   ],
   "source": [
    "#Function to read of the file\n",
    "def readFileData(filename):\n",
    "    f=open(filename,'r')\n",
    "    if f.mode=='r':\n",
    "        x=f.read()\n",
    "        print(x)\n",
    "    f.close()\n",
    "    return\n",
    "readFileData('file2.txt')"
   ]
  },
  {
   "cell_type": "code",
   "execution_count": null,
   "metadata": {},
   "outputs": [],
   "source": [
    "#Function to read the File\n",
    "def fileOperations(filename,mode):\n",
    "    with open(filename,mode) as f:\n",
    "        if f.mode=='r':\n",
    "            data=f.read()\n",
    "            print(data)\n",
    "        elif f.mode=='a':\n",
    "            f.write('Data to the File')\n",
    "            print('The data successfully written')\n",
    "    f.close()\n",
    "    return\n",
    "filename=input('Enter the file name')\n",
    "mode=input('Enter the mode of the file')\n",
    "fileOperations(filename,mode)"
   ]
  },
  {
   "cell_type": "code",
   "execution_count": null,
   "metadata": {},
   "outputs": [],
   "source": [
    "#Data Analysis\n",
    "#Word Count Program\n",
    "def wordCount(filename,word):\n",
    "    with open(filename,'r') as f:\n",
    "        if f.mode='r':\n",
    "            x=f.read()\n",
    "            li=x.split() # It's splits the string with whitespace\n",
    "    cnt=li.count(word)\n",
    "    return cnt\n",
    "filename=input('Enter the file name:')\n",
    "word=input('Enter the word:') # which word count you need\n",
    "wordCount(filename,word)"
   ]
  },
  {
   "cell_type": "code",
   "execution_count": null,
   "metadata": {},
   "outputs": [],
   "source": []
  },
  {
   "cell_type": "code",
   "execution_count": null,
   "metadata": {},
   "outputs": [],
   "source": []
  }
 ],
 "metadata": {
  "kernelspec": {
   "display_name": "Python 3",
   "language": "python",
   "name": "python3"
  },
  "language_info": {
   "codemirror_mode": {
    "name": "ipython",
    "version": 3
   },
   "file_extension": ".py",
   "mimetype": "text/x-python",
   "name": "python",
   "nbconvert_exporter": "python",
   "pygments_lexer": "ipython3",
   "version": "3.7.3"
  }
 },
 "nbformat": 4,
 "nbformat_minor": 2
}
